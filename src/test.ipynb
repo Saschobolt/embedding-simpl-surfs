{
 "cells": [
  {
   "cell_type": "code",
   "execution_count": 2,
   "metadata": {},
   "outputs": [
    {
     "data": {
      "text/plain": [
       "Warning, (in performStep) try statement has no catch or finally clause |embedding.mpl:311|"
      ]
     },
     "metadata": {},
     "output_type": "display_data"
    }
   ],
   "source": [
    "read(\"Initialization_SSH.mpl\");\n",
    "read(\"embedding.mpl\");\n",
    "read(\"examples.mpl\");\n",
    "read(\"adagrad.mpl\");\n",
    "\n",
    "with(Algebraic):"
   ]
  },
  {
   "cell_type": "markdown",
   "metadata": {},
   "source": [
    "## Plesken"
   ]
  },
  {
   "cell_type": "code",
   "execution_count": 3,
   "metadata": {},
   "outputs": [
    {
     "data": {
      "text/markdown": [
       "$$[[[3, 5, 1], [], []], [[4], [3], [1, 5]], [[2], [], [1, 3, 4]], [[6], [], [2, 3, 4]], [[7], [], [3, 6, 5]], [[8], [], [4, 6, 5, 7]]]$$"
      ]
     },
     "execution_count": 3,
     "metadata": {},
     "output_type": "execute_result"
    }
   ],
   "source": [
    "EmbeddingPlan(Plesken);"
   ]
  },
  {
   "cell_type": "code",
   "execution_count": 4,
   "metadata": {},
   "outputs": [
    {
     "data": {
      "text/markdown": [
       "$$[[0, 0, 0], [0, 0, 0], [0, 0, 0], [0, 0, 0], [0, 0, 0], [0, 0, 0], [0, 0, 0], [0, 0, 0]]$$"
      ]
     },
     "execution_count": 4,
     "metadata": {},
     "output_type": "execute_result"
    }
   ],
   "source": [
    "coordinates := [[0,0,0]$nops(Plesken[vertex_names])];"
   ]
  },
  {
   "cell_type": "code",
   "execution_count": 5,
   "metadata": {},
   "outputs": [],
   "source": [
    "tetra := Tetrahedron([1,1,1, t, 1, 1]):\n",
    "coordinates[3] := tetra[1]:\n",
    "coordinates[5] := tetra[2]:\n",
    "coordinates[1] := tetra[3]:\n",
    "coordinates[4] := tetra[4]:\n",
    "\n",
    "coordinates:"
   ]
  },
  {
   "cell_type": "code",
   "execution_count": 6,
   "metadata": {},
   "outputs": [],
   "source": [
    "coordinates[2] := MoveTetraBase([coordinates[1], coordinates[3], coordinates[4]], \n",
    "            Tetrahedron([dist(coordinates[1], coordinates[3]), \n",
    "                         dist(coordinates[3], coordinates[4]), \n",
    "                         dist(coordinates[4], coordinates[1]),\n",
    "                         1,1,1]),\n",
    "            1)[4]:"
   ]
  },
  {
   "cell_type": "code",
   "execution_count": 7,
   "metadata": {},
   "outputs": [],
   "source": [
    "coordinates[6] := MoveTetraBase([coordinates[2], coordinates[3], coordinates[4]], \n",
    "            Tetrahedron([dist(coordinates[2], coordinates[3]), \n",
    "                         dist(coordinates[3], coordinates[4]), \n",
    "                         dist(coordinates[4], coordinates[1]),\n",
    "                         1,1,1]),\n",
    "            -1)[4]:"
   ]
  },
  {
   "cell_type": "code",
   "execution_count": 8,
   "metadata": {},
   "outputs": [
    {
     "ename": "Maple Error",
     "evalue": "Error, (in LinearAlgebra:-CrossProduct) invalid input: LinearAlgebra:-CrossProduct expects its 1st argument, V1, to be of type Vector(3) but received ([[0, 0, 0], [1, 0, 0], [1/2, 1/2*RootOf(_Z^2-3,index = 1), 0], [1/2, 1/6*RootOf(_Z^2-3,index = 1), 1/3*RootOf(_Z^2-2,index = 1)*RootOf(_Z^2-3,index = 1)]]-1)[2]-([[0, 0, 0], [1, 0, 0], [1/2, 1/2*RootOf(_Z^2-3,index = 1), 0], [1/2, 1/6*RootOf(_Z^2-3,index = 1), 1/3*RootOf(_Z^2-2,index = 1)*RootOf(_Z^2-3,index = 1)]]-1)[1]",
     "output_type": "error",
     "traceback": [
      "Runtime error: Error, (in LinearAlgebra:-CrossProduct) invalid input: LinearAlgebra:-CrossProduct expects its 1st argument, V1, to be of type Vector(3) but received ([[0, 0, 0], [1, 0, 0], [1/2, 1/2*RootOf(_Z^2-3,index = 1), 0], [1/2, 1/6*RootOf(_Z^2-3,index = 1), 1/3*RootOf(_Z^2-2,index = 1)*RootOf(_Z^2-3,index = 1)]]-1)[2]-([[0, 0, 0], [1, 0, 0], [1/2, 1/2*RootOf(_Z^2-3,index = 1), 0], [1/2, 1/6*RootOf(_Z^2-3,index = 1), 1/3*RootOf(_Z^2-2,index = 1)*RootOf(_Z^2-3,index = 1)]]-1)[1]"
     ]
    }
   ],
   "source": [
    "coordinates[7] := MoveTetraBase([coordinates[3], coordinates[6], coordinates[5]], \n",
    "            Tetrahedron([dist(coordinates[3], coordinates[6]), \n",
    "                         dist(coordinates[6], coordinates[5]), \n",
    "                         dist(coordinates[5], coordinates[3]),\n",
    "                         1,1,1])\n",
    "            -1)[4]:"
   ]
  },
  {
   "cell_type": "code",
   "execution_count": 9,
   "metadata": {},
   "outputs": [],
   "source": [
    "coordinates[8] := MoveTetraBase([coordinates[4], coordinates[6], coordinates[5]], \n",
    "            Tetrahedron([dist(coordinates[4], coordinates[6]), \n",
    "                         dist(coordinates[6], coordinates[5]), \n",
    "                         dist(coordinates[5], coordinates[4]),\n",
    "                         1,1,1]))[4]:"
   ]
  },
  {
   "cell_type": "code",
   "execution_count": 10,
   "metadata": {},
   "outputs": [
    {
     "data": {
      "text/plain": [
       "kilobytes used=7946, alloc=14897, time=0.67"
      ]
     },
     "metadata": {},
     "output_type": "display_data"
    },
    {
     "data": {
      "text/markdown": [
       "$$\\frac{\\mathit{RootOf}\\left(\\textit{\\_Z}^{2}-3, \\mathit{index} =1\\right) \\sqrt{-2 \\mathit{RootOf}\\left(t^{4}+\\textit{\\_Z}^{2}-3 t^{2}, \\mathit{index} =1\\right) \\mathit{RootOf}\\left(\\textit{\\_Z}^{2}-2, \\mathit{index} =1\\right)+t^{2}+3}}{3}$$"
      ]
     },
     "execution_count": 10,
     "metadata": {},
     "output_type": "execute_result"
    }
   ],
   "source": [
    "evala(dist(coordinates[8], coordinates[7]));"
   ]
  },
  {
   "cell_type": "code",
   "execution_count": 11,
   "metadata": {},
   "outputs": [
    {
     "data": {
      "text/markdown": [
       "$$\\frac{t^{2}}{3}-\\frac{2 \\mathit{RootOf}\\left(t^{4}+\\textit{\\_Z}^{2}-3 t^{2}, \\mathit{index} =1\\right) \\mathit{RootOf}\\left(\\textit{\\_Z}^{2}-2, \\mathit{index} =1\\right)}{3}$$"
      ]
     },
     "execution_count": 11,
     "metadata": {},
     "output_type": "execute_result"
    }
   ],
   "source": [
    "eqn := evala((dist(coordinates[8], coordinates[7])^2 - 1));"
   ]
  },
  {
   "cell_type": "code",
   "execution_count": 12,
   "metadata": {},
   "outputs": [],
   "source": [
    "s, u := `SimplicialSurfaceEmbeddings/solve_polynomial_system`([eqn], [t], [], []):"
   ]
  },
  {
   "cell_type": "code",
   "execution_count": 13,
   "metadata": {},
   "outputs": [
    {
     "data": {
      "text/markdown": [
       "$$[[t = 0], [t = 2 \\mathit{RootOf}\\left(3 \\textit{\\_Z}^{2}-2, \\mathit{index} =1\\right)], [t = 2 \\mathit{RootOf}\\left(3 \\textit{\\_Z}^{2}-2, \\mathit{index} =2\\right)]]$$"
      ]
     },
     "execution_count": 13,
     "metadata": {},
     "output_type": "execute_result"
    }
   ],
   "source": [
    "evala(s);"
   ]
  },
  {
   "cell_type": "code",
   "execution_count": 14,
   "metadata": {},
   "outputs": [
    {
     "data": {
      "text/markdown": [
       "$$\\left[\\left[{\\frac{1}{2}}, \\frac{\\mathit{RootOf}\\left(\\textit{\\_Z}^{2}-3, \\mathit{index} =1\\right)}{2}, 0\\right], \\left[-{\\frac{1}{2}}, \\frac{\\mathit{RootOf}\\left(\\textit{\\_Z}^{2}-3, \\mathit{index} =1\\right)}{2}, 0\\right], [0, 0, 0], [0, 0, 0], [1, 0, 0], \\left[{\\frac{1}{2}}, \\frac{\\mathit{RootOf}\\left(\\textit{\\_Z}^{2}-3, \\mathit{index} =1\\right)}{2}, 0\\right], [0, 0, 0], \\left[{\\frac{1}{2}}, \\frac{\\mathit{RootOf}\\left(\\textit{\\_Z}^{2}-3, \\mathit{index} =1\\right)}{6}, -\\frac{\\mathit{RootOf}\\left(\\textit{\\_Z}^{2}-2, \\mathit{index} =1\\right) \\mathit{RootOf}\\left(\\textit{\\_Z}^{2}-3, \\mathit{index} =1\\right)}{3}\\right]\\right]$$"
      ]
     },
     "execution_count": 14,
     "metadata": {},
     "output_type": "execute_result"
    }
   ],
   "source": [
    "emb2 := evala(subs(s[1], coordinates));"
   ]
  },
  {
   "cell_type": "code",
   "execution_count": 15,
   "metadata": {},
   "outputs": [
    {
     "data": {
      "text/markdown": [
       "$$[1, 1, 1, 1, 1, 1, 1, 1, 1, 1, 1, 0, 1, 1, 1, 1, 1, 1]$$"
      ]
     },
     "execution_count": 15,
     "metadata": {},
     "output_type": "execute_result"
    }
   ],
   "source": [
    "map(e -> evala(dist(emb2[e[1]], emb2[e[2]])), Edges(Plesken));"
   ]
  },
  {
   "cell_type": "markdown",
   "metadata": {},
   "source": [
    "## Oktaeder"
   ]
  },
  {
   "cell_type": "code",
   "execution_count": 16,
   "metadata": {},
   "outputs": [
    {
     "data": {
      "text/markdown": [
       "$$[[[1, 2, 3], [], []], [[4], [2], [1, 3]], [[5], [], [2, 1, 4]], [[6], [], [2, 5, 3, 4]]]$$"
      ]
     },
     "execution_count": 16,
     "metadata": {},
     "output_type": "execute_result"
    }
   ],
   "source": [
    "EmbeddingPlan(Octahedron)"
   ]
  },
  {
   "cell_type": "code",
   "execution_count": 17,
   "metadata": {},
   "outputs": [
    {
     "data": {
      "text/markdown": [
       "$$\\left[[0, 0, 0], [1, 0, 0], \\left[{\\frac{1}{2}}, \\frac{\\mathit{RootOf}\\left(\\textit{\\_Z}^{2}-3, \\mathit{index} =1\\right)}{2}, 0\\right], \\left[1-\\frac{t^{2}}{2}, \\frac{t^{2} \\mathit{RootOf}\\left(\\textit{\\_Z}^{2}-3, \\mathit{index} =1\\right)}{6}, \\frac{\\mathit{RootOf}\\left(t^{4}+\\textit{\\_Z}^{2}-3 t^{2}, \\mathit{index} =1\\right) \\mathit{RootOf}\\left(\\textit{\\_Z}^{2}-3, \\mathit{index} =1\\right)}{3}\\right], [0, 0, 0], [0, 0, 0]\\right]$$"
      ]
     },
     "execution_count": 17,
     "metadata": {},
     "output_type": "execute_result"
    }
   ],
   "source": [
    "coordinates := [[0,0,0]$nops(Vertices(Octahedron))]:\n",
    "\n",
    "tetra := Tetrahedron([1,1,1,1,t,1]):\n",
    "\n",
    "coordinates[1] := tetra[1]:\n",
    "coordinates[2] := tetra[2]:\n",
    "coordinates[3] := tetra[3]:\n",
    "coordinates[4] := tetra[4]:\n",
    "\n",
    "coordinates;"
   ]
  },
  {
   "cell_type": "code",
   "execution_count": 18,
   "metadata": {},
   "outputs": [],
   "source": [
    "coordinates[5] := MoveTetraBase([coordinates[2], coordinates[1], coordinates[4]],\n",
    "                Tetrahedron([dist(coordinates[2], coordinates[1]),\n",
    "                            dist(coordinates[1], coordinates[4]),\n",
    "                            dist(coordinates[4], coordinates[2]),\n",
    "                            1,1,1]), -1)[4]:\n"
   ]
  },
  {
   "cell_type": "code",
   "execution_count": 19,
   "metadata": {},
   "outputs": [],
   "source": [
    "coordinates[6] := MoveTetraBase([coordinates[2], coordinates[5], coordinates[3]],\n",
    "                Tetrahedron([dist(coordinates[2], coordinates[5]),\n",
    "                            dist(coordinates[5], coordinates[3]),\n",
    "                            dist(coordinates[3], coordinates[2]),\n",
    "                            1,1,1]), -1)[4]:"
   ]
  },
  {
   "cell_type": "code",
   "execution_count": 20,
   "metadata": {},
   "outputs": [
    {
     "data": {
      "text/plain": [
       "kilobytes used=23897, alloc=19336, time=2.03"
      ]
     },
     "metadata": {},
     "output_type": "display_data"
    }
   ],
   "source": [
    "eqn := dist(coordinates[6], coordinates[4])^2-1:\n",
    "\n",
    "s, u := `SimplicialSurfaceEmbeddings/solve_polynomial_system`([eqn], [t], [], []):"
   ]
  },
  {
   "cell_type": "code",
   "execution_count": 21,
   "metadata": {},
   "outputs": [
    {
     "data": {
      "text/markdown": [
       "$$[[t = t]]$$"
      ]
     },
     "execution_count": 21,
     "metadata": {},
     "output_type": "execute_result"
    }
   ],
   "source": [
    "s;"
   ]
  },
  {
   "cell_type": "code",
   "execution_count": 22,
   "metadata": {},
   "outputs": [
    {
     "data": {
      "text/markdown": [
       "$$\\left[1, 1, 1, 1, 1, 1, 1, 1, 1, 1, 1, \\sqrt{\\frac{\\frac{\\mathit{RootOf}\\left(t^{4}+\\textit{\\_Z}^{2}-3 t^{2}, \\mathit{index} =1\\right) \\mathit{RootOf}\\left(\\left(t^{4}-8 t^{2}+16\\right) \\textit{\\_Z}^{2}+t^{4}-3 t^{2}, \\mathit{index} =1\\right) t^{4}}{2}+\\frac{t^{6}}{2}-3 \\mathit{RootOf}\\left(t^{4}+\\textit{\\_Z}^{2}-3 t^{2}, \\mathit{index} =1\\right) \\mathit{RootOf}\\left(\\left(t^{4}-8 t^{2}+16\\right) \\textit{\\_Z}^{2}+t^{4}-3 t^{2}, \\mathit{index} =1\\right) t^{2}-\\frac{5 t^{4}}{2}+4 \\mathit{RootOf}\\left(t^{4}+\\textit{\\_Z}^{2}-3 t^{2}, \\mathit{index} =1\\right) \\mathit{RootOf}\\left(\\left(t^{4}-8 t^{2}+16\\right) \\textit{\\_Z}^{2}+t^{4}-3 t^{2}, \\mathit{index} =1\\right)+4 t^{2}-3}{t^{2}-3}}\\right]$$"
      ]
     },
     "execution_count": 22,
     "metadata": {},
     "output_type": "execute_result"
    }
   ],
   "source": [
    "su := s[1]:\n",
    "\n",
    "map(e -> evala(dist(subs(su, coordinates)[e[1]], subs(su, coordinates)[e[2]])), Edges(Octahedron));"
   ]
  },
  {
   "cell_type": "code",
   "execution_count": 23,
   "metadata": {},
   "outputs": [
    {
     "data": {
      "text/markdown": [
       "$$[[1, 2], [1, 3], [2, 3], [2, 5], [2, 6], [5, 6], [1, 5], [3, 6], [1, 4], [4, 5], [3, 4], [4, 6]]$$"
      ]
     },
     "execution_count": 23,
     "metadata": {},
     "output_type": "execute_result"
    }
   ],
   "source": [
    "Edges(Octahedron);"
   ]
  },
  {
   "cell_type": "code",
   "execution_count": 24,
   "metadata": {},
   "outputs": [
    {
     "data": {
      "text/markdown": [
       "$$[],[]$$"
      ]
     },
     "execution_count": 24,
     "metadata": {},
     "output_type": "execute_result"
    }
   ],
   "source": [
    "`SimplicialSurfaceEmbeddings/solve_polynomial_system`([t^2-1], [t], [], []);"
   ]
  },
  {
   "cell_type": "code",
   "execution_count": 25,
   "metadata": {},
   "outputs": [
    {
     "data": {
      "text/plain": [
       "                                octa := Surface"
      ]
     },
     "metadata": {},
     "output_type": "display_data"
    }
   ],
   "source": [
    "octa := NewSurface();\n",
    "AddFace(octa, [S, 1, 2]);\n",
    "AttachFace(octa, [S,2], 3);\n",
    "AttachButterfly(octa, [3,S], [S,1], 4);\n",
    "AttachButterfly(octa, [1,2], [2,3], N);\n",
    "PasteButterfly(octa, [3,4], [4,1], N);"
   ]
  },
  {
   "cell_type": "code",
   "execution_count": null,
   "metadata": {},
   "outputs": [],
   "source": [
    "emb := FindEmbeddings(Octahedron)"
   ]
  },
  {
   "cell_type": "code",
   "execution_count": 28,
   "metadata": {},
   "outputs": [
    {
     "data": {
      "image/png": "[encoded data removed]"
     },
     "execution_count": 28,
     "metadata": {},
     "output_type": "execute_result"
    }
   ],
   "source": [
    "DrawSurface(octa,2);"
   ]
  },
  {
   "cell_type": "code",
   "execution_count": null,
   "metadata": {},
   "outputs": [],
   "source": []
  },
  {
   "cell_type": "markdown",
   "metadata": {},
   "source": [
    "## Bricard Octahedron"
   ]
  },
  {
   "cell_type": "code",
   "execution_count": null,
   "metadata": {},
   "outputs": [],
   "source": [
    "emb := FindEmbeddings(Octahedron, [2,2,2,2,3,2,3,3,3,2,2,2]);"
   ]
  }
 ],
 "metadata": {
  "kernelspec": {
   "display_name": "Maple 2022",
   "language": "maple",
   "name": "maple"
  },
  "language_info": {
   "file_extension": ".mpl",
   "mimetype": "application/vnd.maple.mpl",
   "name": "maple",
   "version": "2022"
  },
  "orig_nbformat": 4
 },
 "nbformat": 4,
 "nbformat_minor": 2
}
