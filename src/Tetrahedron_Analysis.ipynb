{
 "cells": [
  {
   "cell_type": "code",
   "execution_count": 1,
   "metadata": {},
   "outputs": [
    {
     "data": {
      "text/plain": [
       "Warning, (in performStep) try statement has no catch or finally clause |embedding.mpl:335|"
      ]
     },
     "metadata": {},
     "output_type": "display_data"
    }
   ],
   "source": [
    "read(\"Initialization_SSH.mpl\");\n",
    "read(\"embedding.mpl\");"
   ]
  },
  {
   "cell_type": "code",
   "execution_count": 30,
   "metadata": {},
   "outputs": [
    {
     "data": {
      "text/markdown": [
       "$$\\sqrt{-a^{4} e^{2}-a^{2} b^{2} c^{2}+a^{2} b^{2} e^{2}+a^{2} b^{2} t^{2}+a^{2} c^{2} d^{2}+a^{2} c^{2} e^{2}+d^{2} e^{2} a^{2}-t^{2} d^{2} a^{2}-a^{2} e^{4}+a^{2} t^{2} e^{2}-b^{4} t^{2}+b^{2} c^{2} d^{2}+b^{2} c^{2} t^{2}-b^{2} d^{2} e^{2}+b^{2} d^{2} t^{2}+b^{2} e^{2} t^{2}-b^{2} t^{4}-c^{4} d^{2}-c^{2} d^{4}+c^{2} d^{2} e^{2}+c^{2} d^{2} t^{2}-c^{2} e^{2} t^{2}}$$"
      ]
     },
     "execution_count": 30,
     "metadata": {},
     "output_type": "execute_result"
    }
   ],
   "source": [
    "tetra := Tetrahedron([a,b,c,t,d,e]):\n",
    "\n",
    "# distance between first and fourth vertex of tetrahedron\n",
    "dist := dist(tetra[1], tetra[4]):\n",
    "expr := convert(indets(dist, algext)[2], radical);"
   ]
  },
  {
   "cell_type": "code",
   "execution_count": 4,
   "metadata": {},
   "outputs": [
    {
     "data": {
      "text/plain": [
       "         - a  e  + b  c  d  - b  d  e  - c  d  - c  d  + c  d  e"
      ]
     },
     "metadata": {},
     "output_type": "display_data"
    },
    {
     "data": {
      "text/markdown": [
       "$$-b^{2} t^{4}+\\left(a^{2} b^{2}-a^{2} d^{2}+a^{2} e^{2}-b^{4}+b^{2} c^{2}+b^{2} d^{2}+b^{2} e^{2}+c^{2} d^{2}-c^{2} e^{2}\\right) t^{2}-a^{4} e^{2}-a^{2} b^{2} c^{2}+a^{2} b^{2} e^{2}+a^{2} c^{2} d^{2}+a^{2} c^{2} e^{2}+d^{2} e^{2} a^{2}-a^{2} e^{4}+b^{2} c^{2} d^{2}-b^{2} d^{2} e^{2}-c^{4} d^{2}-c^{2} d^{4}+c^{2} d^{2} e^{2}$$"
      ]
     },
     "execution_count": 4,
     "metadata": {},
     "output_type": "execute_result"
    }
   ],
   "source": [
    "expr2 := collect(expr^2, t); # needs to be positive"
   ]
  },
  {
   "cell_type": "code",
   "execution_count": 16,
   "metadata": {},
   "outputs": [
    {
     "data": {
      "text/markdown": [
       "$$\\left[\\frac{\\sqrt{2 a^{2} b^{2}-2 a^{2} d^{2}+2 a^{2} e^{2}-2 b^{4}+2 b^{2} c^{2}+2 b^{2} d^{2}+2 b^{2} e^{2}+2 c^{2} d^{2}-2 c^{2} e^{2}-2 \\sqrt{\\left(b^{4}-2 b^{2} d^{2}-2 b^{2} e^{2}+d^{4}-2 d^{2} e^{2}+e^{4}\\right) \\left(a^{4}-2 a^{2} b^{2}-2 a^{2} c^{2}+b^{4}-2 b^{2} c^{2}+c^{4}\\right)}}}{2 b}, -\\frac{\\sqrt{2 a^{2} b^{2}-2 a^{2} d^{2}+2 a^{2} e^{2}-2 b^{4}+2 b^{2} c^{2}+2 b^{2} d^{2}+2 b^{2} e^{2}+2 c^{2} d^{2}-2 c^{2} e^{2}-2 \\sqrt{\\left(b^{4}-2 b^{2} d^{2}-2 b^{2} e^{2}+d^{4}-2 d^{2} e^{2}+e^{4}\\right) \\left(a^{4}-2 a^{2} b^{2}-2 a^{2} c^{2}+b^{4}-2 b^{2} c^{2}+c^{4}\\right)}}}{2 b}, \\frac{\\sqrt{2 a^{2} b^{2}-2 a^{2} d^{2}+2 a^{2} e^{2}-2 b^{4}+2 b^{2} c^{2}+2 b^{2} d^{2}+2 b^{2} e^{2}+2 c^{2} d^{2}-2 c^{2} e^{2}+2 \\sqrt{\\left(b^{4}-2 b^{2} d^{2}-2 b^{2} e^{2}+d^{4}-2 d^{2} e^{2}+e^{4}\\right) \\left(a^{4}-2 a^{2} b^{2}-2 a^{2} c^{2}+b^{4}-2 b^{2} c^{2}+c^{4}\\right)}}}{2 b}, -\\frac{\\sqrt{2 a^{2} b^{2}-2 a^{2} d^{2}+2 a^{2} e^{2}-2 b^{4}+2 b^{2} c^{2}+2 b^{2} d^{2}+2 b^{2} e^{2}+2 c^{2} d^{2}-2 c^{2} e^{2}+2 \\sqrt{\\left(b^{4}-2 b^{2} d^{2}-2 b^{2} e^{2}+d^{4}-2 d^{2} e^{2}+e^{4}\\right) \\left(a^{4}-2 a^{2} b^{2}-2 a^{2} c^{2}+b^{4}-2 b^{2} c^{2}+c^{4}\\right)}}}{2 b}\\right]$$"
      ]
     },
     "execution_count": 16,
     "metadata": {},
     "output_type": "execute_result"
    }
   ],
   "source": [
    "p := evala(coeff(expr2, t, 2) / coeff(expr2, t, 4)):\n",
    "q := evala(coeff(expr2, t, 0) / coeff(expr2, t, 4)):\n",
    "\n",
    "sol := evala([sqrt(-p/2 - sqrt((p/2)^2 - q)), sqrt(-p/2 + sqrt((p/2)^2 - q))]) assuming a>0, b>0, c>0, d>0, e>0:\n",
    "sol := [sol[1], -sol[1], sol[2], -sol[2]];"
   ]
  },
  {
   "cell_type": "code",
   "execution_count": 23,
   "metadata": {},
   "outputs": [
    {
     "data": {
      "image/png": "[encoded data removed]"
     },
     "execution_count": 23,
     "metadata": {},
     "output_type": "execute_result"
    }
   ],
   "source": [
    "substitutions := [a=2,b=1,c=2,d=1,e=1]:\n",
    "plot(subs(substitutions, expr2));"
   ]
  },
  {
   "cell_type": "code",
   "execution_count": 24,
   "metadata": {},
   "outputs": [
    {
     "data": {
      "text/markdown": [
       "$$\\left[-\\frac{\\sqrt{3}}{2}+\\frac{\\sqrt{5} \\sqrt{3}}{2}, \\frac{\\sqrt{3}}{2}-\\frac{\\sqrt{5} \\sqrt{3}}{2}, \\frac{\\sqrt{3}}{2}+\\frac{\\sqrt{5} \\sqrt{3}}{2}, -\\frac{\\sqrt{3}}{2}-\\frac{\\sqrt{5} \\sqrt{3}}{2}\\right]$$"
      ]
     },
     "execution_count": 24,
     "metadata": {},
     "output_type": "execute_result"
    }
   ],
   "source": [
    "evala(subs(substitutions, sol));"
   ]
  },
  {
   "cell_type": "code",
   "execution_count": null,
   "metadata": {},
   "outputs": [],
   "source": []
  }
 ],
 "metadata": {
  "kernelspec": {
   "display_name": "Maple 2022",
   "language": "maple",
   "name": "maple"
  },
  "language_info": {
   "file_extension": ".mpl",
   "mimetype": "application/vnd.maple.mpl",
   "name": "maple",
   "version": "2022"
  },
  "orig_nbformat": 4
 },
 "nbformat": 4,
 "nbformat_minor": 2
}
